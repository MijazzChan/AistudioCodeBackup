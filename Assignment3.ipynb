{
 "cells": [
  {
   "cell_type": "code",
   "execution_count": 48,
   "metadata": {
    "collapsed": false
   },
   "outputs": [],
   "source": [
    "# 查看当前挂载的数据集目录, 该目录下的变更重启环境后会自动还原\n",
    "# View dataset directory. This directory will be recovered automatically after resetting environment. \n",
    "!ls /home/aistudio/data"
   ]
  },
  {
   "cell_type": "code",
   "execution_count": 49,
   "metadata": {
    "collapsed": false
   },
   "outputs": [],
   "source": [
    "# 查看工作区文件, 该目录下的变更将会持久保存. 请及时清理不必要的文件, 避免加载过慢.\n",
    "# View personal work directory. All changes under this directory will be kept even after reset. Please clean unnecessary files in time to speed up environment loading.\n",
    "!ls /home/aistudio/work"
   ]
  },
  {
   "cell_type": "markdown",
   "metadata": {
    "collapsed": false
   },
   "source": [
    " 第二章PPT和视频中讲解了A*算法原理，以及跨越障碍物的例子，请用Python实现它，要求：<br/>\n",
    " 1.地图的大小可任意，障碍物的数量至少是2，长度和位置可任意固定。\n",
    " 2.在估算H值的时候，分别采用欧式距离和曼哈顿距离两种方式，并比较两种方法给出的最优路径是否相同\n",
    " 3.可不画出图，文字打印路径作为结果。"
   ]
  },
  {
   "cell_type": "markdown",
   "metadata": {
    "collapsed": false
   },
   "source": [
    "## A star Algorithm\n",
    "**2017326603075 陈浩骏 17信科1班**\n",
    "参考资料(可能需要proxy)：\n",
    "+ [StackOverFlow](https://stackoverflow.com/questions/1332466/how-does-dijkstras-algorithm-and-a-star-compare) A* search algorithm\n",
    "+ [WikiPedia](https://en.wikipedia.org/wiki/A*_search_algorithm) Introduction to A* From Amit’s Thoughts on Pathfinding\n",
    "+ [Stanford](http://theory.stanford.edu/~amitp/GameProgramming/AStarComparison.html) how-does-dijkstras-algorithm-and-a-star-compare"
   ]
  },
  {
   "cell_type": "code",
   "execution_count": 50,
   "metadata": {
    "collapsed": false
   },
   "outputs": [],
   "source": [
    "import math"
   ]
  },
  {
   "cell_type": "markdown",
   "metadata": {
    "collapsed": false
   },
   "source": [
    "依赖导入"
   ]
  },
  {
   "cell_type": "code",
   "execution_count": 51,
   "metadata": {
    "collapsed": false
   },
   "outputs": [],
   "source": [
    "class Node():\r\n",
    "    def __init__(self, parentNode=None, position=None):\r\n",
    "        self.parentNode = parentNode\r\n",
    "        self.position = position\r\n",
    "        self.f = 0\r\n",
    "        self.g = 0\r\n",
    "        self.h = 0\r\n",
    "    \r\n",
    "    def __eq__(self, other):\r\n",
    "        return self.position == other.position"
   ]
  },
  {
   "cell_type": "markdown",
   "metadata": {
    "collapsed": false
   },
   "source": [
    "### 面向对象：Node-节点类\n",
    "- `parentNode` 为某一点的双亲结点，具有指向性，便于回溯，可避免使用栈或队列记录路线\n",
    "- `position` 为当前节点在图中的位置，`type=tuple`，二元位置`(pos_x, pos_y)`\n",
    "- `f,g,h` 分别为A* 算法中的对应距离代价cost，详情看A* 算法\n",
    "- 重载`__eq__`函数，比较两点相同仅需看位置\n",
    "\n",
    "因需使用两种距离算法`Manhattan` `Eclidean`，为了可读性，使用函数调用算法会比脚本序更好。"
   ]
  },
  {
   "cell_type": "code",
   "execution_count": 52,
   "metadata": {
    "collapsed": false
   },
   "outputs": [],
   "source": [
    "def aStar(maze, startNodePosition, endNodePosition, diagonally=True, euclidean=True):\r\n",
    "    '''\r\n",
    "        maze: 2D-list(0/1) 1 is block, 0 is route.\r\n",
    "        diagonally: 允许是否能对角行走\r\n",
    "        TODO: Mijazz_Chan on Mar 11th, Diagonally 为 False 会遇到死循环，修正\r\n",
    "        euclidean: Flag of Euclidean distance, if False, use Manhattan instead.\r\n",
    "        Configuration of A*\r\n",
    "    '''\r\n",
    "    openList = []\r\n",
    "    closedList = []\r\n",
    "\r\n",
    "    allowCrossDiagonally = diagonally\r\n",
    "    isEuclideanDistance = euclidean\r\n",
    "    # 8个方向 东南西北， 根据是否能对角，取slice\r\n",
    "    direction = [(0, -1), (0, 1), (-1, 0), (1, 0), (-1, -1), (-1, 1), (1, -1), (1, 1)]\r\n",
    "    neighborNode = direction if allowCrossDiagonally else direction[:4]\r\n",
    "    # 距离算法\r\n",
    "    euclideanDistance = lambda pos1_x, pos2_x, pos1_y, pos2_y: math.sqrt((pos1_x - pos2_x) ** 2 + (pos1_y - pos2_y) ** 2)\r\n",
    "    manhattanDistance = lambda pos1_x, pos2_x, pos1_y, pos2_y: abs(pos1_x - pos2_x) + abs(pos1_y - pos2_y)\r\n",
    "    calDistance = euclideanDistance if isEuclideanDistance else manhattanDistance\r\n",
    "\r\n",
    "    # Mark:AVOID TO USE NON-DIAGONALLY, ENDLESS ITERATION! - TODO:Mijazz_Chan on Mar 10th\r\n",
    "    startNode = Node(None, startNodePosition)\r\n",
    "    startNode.f = startNode.g = startNode.h = 0\r\n",
    "    endNode = Node(None, endNodePosition)\r\n",
    "    endNode.f = endNode.g = endNode.h = 0\r\n",
    "\r\n",
    "    openList.append(startNode)\r\n",
    "\r\n",
    "    while(len(openList) > 0):\r\n",
    "        currentNode = openList[0]\r\n",
    "        ci = 0\r\n",
    "        # 在openList取最小f的点\r\n",
    "        for i, cnode in enumerate(openList):\r\n",
    "            if cnode.f < currentNode.f:\r\n",
    "                currentNode = cnode\r\n",
    "                ci = i\r\n",
    "        # 从openList中取出，并放入closedList\r\n",
    "        openList.pop(ci)\r\n",
    "        closedList.append(currentNode)\r\n",
    "\r\n",
    "        # 假设当前currentNode为endNode，回溯每个点并返回路径\r\n",
    "        if currentNode == endNode:\r\n",
    "            print('Cost-> %.3f' % float(currentNode.f))\r\n",
    "            path = []\r\n",
    "            current = currentNode\r\n",
    "            while current is not None:\r\n",
    "                path.append(current.position)\r\n",
    "                current = current.parentNode\r\n",
    "            return path[::-1]\r\n",
    "\r\n",
    "        children = []\r\n",
    "        # newPostion为临近方向，加（1,0）即为东边的邻节点，加(-1, -1)即为西北的邻节点\r\n",
    "        for newPosition in neighborNode:\r\n",
    "            nodePosition = (currentNode.position[0] + newPosition[0], currentNode.position[1] + newPosition[1])\r\n",
    "            # 界内和障碍物判定\r\n",
    "            if nodePosition[0] > (len(maze) - 1) or nodePosition[0] < 0 or nodePosition[1] > (len(maze[len(maze) - 1]) - 1) or nodePosition[1] < 0:\r\n",
    "                continue\r\n",
    "            if maze[nodePosition[0]][nodePosition[1]] != 0:\r\n",
    "                continue \r\n",
    "            # 该节点的非障碍物，非界外的孩子节点\r\n",
    "            newNode = Node(currentNode, nodePosition)\r\n",
    "            children.append(newNode)\r\n",
    "        \r\n",
    "        for child in children:\r\n",
    "            # 如果孩子节点已经被遍历过，丢弃\r\n",
    "            if child in closedList:\r\n",
    "                continue\r\n",
    "            # 对角移动，g加1.4, 横向纵向移动g加1\r\n",
    "            if abs(child.position[0] - currentNode.position[0]) + abs(child.position[1] - currentNode.position[1]) == 2:\r\n",
    "                child.g = currentNode.g + 1.4\r\n",
    "            else:\r\n",
    "                child.g = currentNode.g + 1\r\n",
    "            child.h = calDistance(child.position[0], endNode.position[0], child.position[1], endNode.position[1])\r\n",
    "            child.f = child.g + child.h\r\n",
    "\r\n",
    "            # 查看是否需要更新g\r\n",
    "            for openNode in openList:\r\n",
    "                if child == openNode and child.g > openNode.g:\r\n",
    "                    continue\r\n",
    "            openList.append(child)"
   ]
  },
  {
   "cell_type": "markdown",
   "metadata": {
    "collapsed": false
   },
   "source": [
    "### 算法调用\n",
    "+ `maze` 为矩阵形式的二维数组，该格式用例为10x10的矩阵，0为可通行Block，1为障碍物Block，存在四个障碍物，终点位于第四障碍物后\n",
    "+ `startNode` 起点， `endNode`终点\n",
    "+ `diagonally` 允许对角移动\n",
    "+ `Euclidean` 欧氏距离或曼哈顿距离Boolean Flag\n",
    "**使用10x10的测试用例(10x10, 4障碍)，在不允许对角移动时会有死循环出现** <br>.\n",
    "\n",
    "**使用6x6的测试用例(6x6, 3障碍)，均正常**"
   ]
  },
  {
   "cell_type": "code",
   "execution_count": 53,
   "metadata": {
    "collapsed": false
   },
   "outputs": [
    {
     "name": "stdout",
     "output_type": "stream",
     "text": [
      "Cost-> 12.400\n",
      "Euclidean True, Diagonally True [(0, 0), (1, 1), (1, 2), (2, 3), (3, 3), (4, 4), (4, 5), (5, 6), (6, 7), (5, 8), (5, 9)]\n",
      "Cost-> 12.400\n",
      "Manhattan True, Diagonally True [(0, 0), (1, 1), (1, 2), (2, 3), (3, 3), (4, 4), (5, 5), (5, 6), (6, 7), (5, 8), (5, 9)]\n"
     ]
    }
   ],
   "source": [
    "# 10x10测试用例 \r\n",
    "maze10 = [[0, 0, 0, 0, 1, 0, 0, 0, 0, 0],\r\n",
    "        [0, 0, 0, 0, 1, 0, 0, 0, 0, 0],\r\n",
    "        [0, 0, 1, 0, 1, 0, 0, 1, 0, 0],\r\n",
    "        [0, 0, 1, 0, 1, 0, 0, 1, 0, 0],\r\n",
    "        [0, 0, 1, 0, 0, 0, 0, 1, 0, 0],\r\n",
    "        [0, 0, 1, 0, 0, 0, 0, 1, 0, 0],\r\n",
    "        [0, 0, 1, 0, 1, 0, 0, 0, 0, 0],\r\n",
    "        [0, 0, 0, 0, 1, 0, 0, 0, 0, 0],\r\n",
    "        [0, 0, 0, 0, 1, 0, 0, 0, 0, 0],\r\n",
    "        [0, 0, 0, 0, 0, 0, 0, 0, 0, 0]]\r\n",
    "\r\n",
    "start = (0, 0)\r\n",
    "end = (5, 9)\r\n",
    "\r\n",
    "path = aStar(maze10, start, end, diagonally=True, euclidean=True)\r\n",
    "print('Euclidean True, Diagonally True', path)\r\n",
    "\r\n",
    "path = aStar(maze10, start, end, diagonally=True, euclidean=False)\r\n",
    "print('Manhattan True, Diagonally True', path)\r\n"
   ]
  },
  {
   "cell_type": "code",
   "execution_count": 54,
   "metadata": {
    "collapsed": false
   },
   "outputs": [
    {
     "name": "stdout",
     "output_type": "stream",
     "text": [
      "Cost-> 8.000\n",
      "Euclidean True, Diagonally False [(0, 0), (0, 1), (1, 1), (1, 2), (2, 2), (2, 3), (3, 3), (3, 4), (4, 4)]\n",
      "Cost-> 5.600\n",
      "Euclidean True, Diagonally True [(0, 0), (1, 1), (2, 2), (3, 3), (4, 4)]\n",
      "Cost-> 8.000\n",
      "Euclidean False, Diagonally False [(0, 0), (0, 1), (1, 1), (1, 2), (1, 3), (2, 3), (3, 3), (3, 4), (4, 4)]\n",
      "Cost-> 5.600\n",
      "Euclidean False, Diagonally True [(0, 0), (1, 1), (2, 2), (3, 3), (4, 4)]\n"
     ]
    }
   ],
   "source": [
    "maze6 = [[0, 0, 1, 0, 0, 0],\r\n",
    "        [0, 0, 0, 0, 1, 0],\r\n",
    "        [0, 0, 0, 0, 1, 0],\r\n",
    "        [0, 0, 1, 0, 0, 0],\r\n",
    "        [0, 0, 1, 0, 0, 0],\r\n",
    "        [0, 0, 1, 0, 0, 0]]\r\n",
    "end = (4, 4)\r\n",
    "path = aStar(maze6, start, end, diagonally=False, euclidean=True)\r\n",
    "print('Euclidean True, Diagonally False', path)\r\n",
    "path = aStar(maze6, start, end, diagonally=True, euclidean=True)\r\n",
    "print('Euclidean True, Diagonally True', path)\r\n",
    "path = aStar(maze6, start, end, diagonally=False, euclidean=False)\r\n",
    "print('Euclidean False, Diagonally False', path)\r\n",
    "path = aStar(maze6, start, end, diagonally=True, euclidean=False)\r\n",
    "print('Euclidean False, Diagonally True', path)"
   ]
  },
  {
   "cell_type": "markdown",
   "metadata": {
    "collapsed": false
   },
   "source": [
    "### 实验结论\n",
    "+ 在10x10测试用例与6x6测试用例中，均实现欧氏距离与曼哈顿距离的比较，其路径在`6x6,不允许对角移动`出现了不同，但cost都是一样的。\n",
    "+ 在实验时，`maze`增大时，相应的空间需要和时间需要会激增，并且在解决路径问题上，开放性的道路，即切合实际的导航行驶，启发式搜索会降低很多复杂度，但是对于障碍物多时，即迷宫问题是，我的理解是深度或广度遍历算法会反而较快。"
   ]
  }
 ],
 "metadata": {
  "kernelspec": {
   "display_name": "PaddlePaddle 1.7.0 (Python 3.5)",
   "language": "python",
   "name": "py35-paddle1.2.0"
  },
  "language_info": {
   "codemirror_mode": {
    "name": "ipython",
    "version": 3
   },
   "file_extension": ".py",
   "mimetype": "text/x-python",
   "name": "python",
   "nbconvert_exporter": "python",
   "pygments_lexer": "ipython3",
   "version": "3.7.4"
  }
 },
 "nbformat": 4,
 "nbformat_minor": 1
}
